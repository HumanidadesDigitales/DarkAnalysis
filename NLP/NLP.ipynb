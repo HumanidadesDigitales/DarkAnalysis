{
 "cells": [
  {
   "cell_type": "code",
   "execution_count": 2,
   "metadata": {},
   "outputs": [],
   "source": [
    "import os\n",
    "import pandas as pd\n",
    "from tqdm import tqdm\n",
    "import numpy as np\n",
    "import scipy as sc\n",
    "import scipy.spatial.distance as ssd\n",
    "from scipy.cluster import hierarchy\n",
    "import matplotlib.pyplot as plt\n",
    "\n",
    "def reading(read_path,save_path=None):\n",
    "\n",
    "    df = pd.read_csv(read_path, sep=\",\")\n",
    "\n",
    "    return df\n",
    "\n",
    "df = reading(\"/Users/roicort/Documents/GitHub/DarkMagic/NLP/corpus.csv\")"
   ]
  },
  {
   "cell_type": "code",
   "execution_count": 4,
   "metadata": {},
   "outputs": [
    {
     "data": {
      "text/plain": [
       "{'(2017) Mariana',\n",
       " 'Mercado De Catemaco (2017)',\n",
       " 'Mercado Independencia  de Morelia (2016)',\n",
       " 'Mercado Independencia Morelia (2017)',\n",
       " 'Mercado Independencia de Morelia',\n",
       " 'Mercado Independencia de Morelia (2015)',\n",
       " 'Mercado Independencia, Morelia',\n",
       " 'Mercado Independiencia, Morelia',\n",
       " 'Mercado de Catemaco',\n",
       " 'Mercado de Catemaco (2008)',\n",
       " 'Mercado de Catemaco (2015)',\n",
       " 'Mercado de Catemaco (2016)',\n",
       " 'Mercado de Catemaco (2017)',\n",
       " 'Mercado de Catemaco, Veracruz (2008)',\n",
       " 'Mercado de Jamaica, México (puesto 1)',\n",
       " 'Mercado de Jamaica, México (puesto 1)\\n(32 bis: puesto 2)',\n",
       " 'Mercado de Jamaica, México (puesto 2)',\n",
       " 'Mercado de Jamaica, México, (puesto 1)',\n",
       " 'Mercado de Jamaicoa, Mexico (Puesto 1)',\n",
       " 'Mercado de Sonora',\n",
       " 'Mercado de Sonora, México (2015)',\n",
       " 'Mercado independencia, Morelia',\n",
       " 'Para mayor resultado y tener suerte use este amuleto de doble suerte',\n",
       " nan,\n",
       " '¿Pátzcuaro? (Mariana)',\n",
       " '¿Pátzcuaro? (Mariana) (2015)',\n",
       " '¿Pátzcuaro? (Mariana) (2015). Mercado Independencia (2017)'}"
      ]
     },
     "execution_count": 4,
     "metadata": {},
     "output_type": "execute_result"
    }
   ],
   "source": [
    "set(df[\"Dónde se compró\"])"
   ]
  },
  {
   "cell_type": "code",
   "execution_count": 5,
   "metadata": {},
   "outputs": [
    {
     "data": {
      "text/plain": [
       "{' femenina',\n",
       " 'Masculina',\n",
       " 'No venía el polvo! ',\n",
       " 'hombre o mujer',\n",
       " 'inditintaq',\n",
       " 'mujer',\n",
       " 'mujer, para la ',\n",
       " nan}"
      ]
     },
     "execution_count": 5,
     "metadata": {},
     "output_type": "execute_result"
    }
   ],
   "source": [
    "set(df[\"Voz\"])"
   ]
  },
  {
   "cell_type": "code",
   "execution_count": 17,
   "metadata": {},
   "outputs": [],
   "source": [
    "import spacy\n",
    "from collections import Counter\n",
    "from string import punctuation\n",
    "from spacy import displacy"
   ]
  },
  {
   "cell_type": "code",
   "execution_count": 26,
   "metadata": {},
   "outputs": [
    {
     "name": "stdout",
     "output_type": "stream",
     "text": [
      "ORACION A SAN ALEJO San Alejo, San Alejo tras veces te he de llamar cuantas veces se me ofrezca librame de todo mal. Estas tres cruces que hago, que hago en señal del buen cristiano del criminal o villano para que castigues la mano que quiera hacerme mal, así también quebrarás la lengua del que hable mal de mi. Te ruego glorioso San Alejo no abandones los alrededor [sic] de mi casa ni lo que esté al pie de mi obligación San Alejo de León, mis enemigos del mundo del mar y del monte sean, las personas  que quieran traicionarme por mi corazón le caigan las alas del corazón y venga rendido a mi como Jesús en la Cruz. Amen, Jesús, San Alejo, San Alejo A nuestros malos vecinos retiralos lejos, lejos\n",
      "\n",
      "\n",
      "Nouns: ['SAN ALEJO San Alejo', 'San Alejo', 'veces', 'te', 'veces', 'se', 'me', 'todo', 'Estas tres cruces', 'cristiano', 'criminal', 'la mano', 'la lengua', 'Te', 'ruego', 'San Alejo', 'abandones', ']', 'mi casa', 'lo', 'lo que esté al pie de mi obligación', 'San Alejo de León', 'mis enemigos', 'mundo', 'mar', 'monte', 'las personas', 'mi corazón', 'le', 'las alas', 'corazón', 'Jesús', 'la Cruz', 'Amen', 'Jesús', 'San Alejo', 'San Alejo', 'nuestros malos vecinos', 'retiralos']\n",
      "\n",
      "\n",
      "Verbs: ['ORACION', 'llamar', 'ofrecer', 'hacer', 'hacer', 'castigar', 'querer', 'hacerme', 'quebrar', 'hablar', '[', 'estar', 'ser', 'querer', 'traicionarme', 'caer', 'venir']\n",
      "\n",
      "\n",
      "ORACION A SAN ALEJO San Alejo ORG\n",
      "San Alejo LOC\n",
      "Te ruego glorioso San Alejo MISC\n",
      "San Alejo de León LOC\n",
      "Jesús en la Cruz MISC\n",
      "Amen LOC\n",
      "Jesús LOC\n",
      "San Alejo LOC\n",
      "San Alejo A LOC\n"
     ]
    }
   ],
   "source": [
    "\n",
    "# Load English tokenizer, tagger, parser, NER and word vectors\n",
    "nlp = spacy.load(\"es_core_news_sm\")\n",
    "text = df.iloc[7][\"Oración\"].replace(\"\\n\",\" \")\n",
    "print(text)\n",
    "# Process whole documents\n",
    "doc = nlp(text)\n",
    "print(\"\\n\")\n",
    "# Analyze syntax\n",
    "print(\"Nouns:\", [chunk.text for chunk in doc.noun_chunks])\n",
    "print(\"\\n\")\n",
    "print(\"Verbs:\", [token.lemma_ for token in doc if token.pos_ == \"VERB\"])\n",
    "print(\"\\n\")\n",
    "# Find named entities, phrases and concepts\n",
    "for entity in doc.ents:\n",
    "    print(entity.text, entity.label_)"
   ]
  },
  {
   "cell_type": "code",
   "execution_count": 21,
   "metadata": {},
   "outputs": [],
   "source": [
    "def get_key(text):\n",
    "    result = []\n",
    "    pos_tag = ['PROPN', 'ADJ', 'NOUN'] # 1\n",
    "    doc = nlp(text.lower()) # 2\n",
    "    for token in doc:\n",
    "        # 3\n",
    "        if(token.text in nlp.Defaults.stop_words or token.text in punctuation):\n",
    "            continue\n",
    "        # 4\n",
    "        if(token.pos_ in pos_tag):\n",
    "            result.append(token.text)\n",
    "    print(\"Keys Extracted\")\n",
    "    return list(set(result)) # 5"
   ]
  },
  {
   "cell_type": "code",
   "execution_count": 22,
   "metadata": {},
   "outputs": [
    {
     "name": "stdout",
     "output_type": "stream",
     "text": [
      "Keys Extracted\n"
     ]
    },
    {
     "data": {
      "text/plain": [
       "['celestial',\n",
       " 'puertas',\n",
       " 'falta',\n",
       " 'humana',\n",
       " 'fe',\n",
       " 'corazón',\n",
       " 'súplica',\n",
       " 'difícil',\n",
       " 'mano',\n",
       " 'lucha',\n",
       " 'patria',\n",
       " 'afligido',\n",
       " 'poderosa',\n",
       " 'oración',\n",
       " 'ente',\n",
       " 'vencido',\n",
       " 'necesidad',\n",
       " 'destino',\n",
       " 'consuelo',\n",
       " 'dejo',\n",
       " 'alma',\n",
       " 'fuerza',\n",
       " 'amárame',\n",
       " 'cristiana',\n",
       " 'razón',\n",
       " 'desampares',\n",
       " 'plantas',\n",
       " 'ansío',\n",
       " 'situación',\n",
       " 'imagen',\n",
       " 'camino',\n",
       " 'amén',\n",
       " 'tranquilidad']"
      ]
     },
     "execution_count": 22,
     "metadata": {},
     "output_type": "execute_result"
    }
   ],
   "source": [
    "get_key(text)"
   ]
  },
  {
   "cell_type": "code",
   "execution_count": null,
   "metadata": {},
   "outputs": [],
   "source": []
  }
 ],
 "metadata": {
  "kernelspec": {
   "display_name": "Python 3",
   "language": "python",
   "name": "python3"
  },
  "language_info": {
   "codemirror_mode": {
    "name": "ipython",
    "version": 3
   },
   "file_extension": ".py",
   "mimetype": "text/x-python",
   "name": "python",
   "nbconvert_exporter": "python",
   "pygments_lexer": "ipython3",
   "version": "3.8.3"
  }
 },
 "nbformat": 4,
 "nbformat_minor": 4
}
