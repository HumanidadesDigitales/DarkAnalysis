{
 "cells": [
  {
   "cell_type": "code",
   "execution_count": 1,
   "metadata": {},
   "outputs": [],
   "source": [
    "import os\n",
    "import pandas as pd\n",
    "import numpy as np\n",
    "import matplotlib.pyplot as plt\n",
    "import spacy\n",
    "from collections import Counter\n",
    "from string import punctuation\n",
    "from spacy import displacy"
   ]
  },
  {
   "cell_type": "code",
   "execution_count": 2,
   "metadata": {},
   "outputs": [],
   "source": [
    "def reading(read_path,save_path=None):\n",
    "\n",
    "    df = pd.read_csv(read_path, sep=\",\")\n",
    "\n",
    "    return df\n",
    "\n",
    "df = reading(\"/Users/roicort/Documents/GitHub/DarkMagic/NLP/corpus.csv\")\n",
    "df.rename(columns={'Dónde se compró': 'Procedencia', 'Datos adicionales': 'Información'}, inplace=True)\n",
    "df.drop(columns=[\"Otras versiones\"],inplace=True)"
   ]
  },
  {
   "cell_type": "code",
   "execution_count": 3,
   "metadata": {},
   "outputs": [
    {
     "output_type": "execute_result",
     "data": {
      "text/plain": [
       "      Id                                         Título  \\\n",
       "0      1                         Legítimo polvo Sándalo   \n",
       "1      2                   MARAVILLOSO POLVO DEL CONGO    \n",
       "2      3  LEGÍTIMO POLVO DOBLEGADO A MIS PIES [ver #51]   \n",
       "3      4              POLVO DE OLICORNIO VFNCEDOR [sic]   \n",
       "4      5                 Polvo especial SIEMPRE CONMIGO   \n",
       "..   ...                                            ...   \n",
       "140  140                LEGITIMO POLVO DE Llama Cliente   \n",
       "141  141                        MARAVILLOSO POLVO CONGO   \n",
       "142  142                       Polvo Divina Providencia   \n",
       "143  143            LEGITIMO POLVO DE LAS CUATRO MAGIAS   \n",
       "144  144         LEGITIMO POLVO DEL JOROBADO HUMILLADOR   \n",
       "\n",
       "                                               Oración            Objeto  \\\n",
       "0                                                  NaN      Polvo blanco   \n",
       "1                                                  NaN      Polvo blanco   \n",
       "2                                                  NaN      Polvo blanco   \n",
       "3                                                  NaN  Polvo gris claro   \n",
       "4                                                  NaN      Polvo blanco   \n",
       "..                                                 ...               ...   \n",
       "140                                                NaN  Polvo gris claro   \n",
       "141                                                NaN        Polvo gris   \n",
       "142  A ti excelsa trinidad mi memoria y voluntad a ...  Polvo gris claro   \n",
       "143                                                NaN  Polvo gris claro   \n",
       "144                                                NaN        Polvo gris   \n",
       "\n",
       "                                  Procedencia   Medidas  \\\n",
       "0        Mercado de Catemaco, Veracruz (2008)  9 x 6 cm   \n",
       "1                  Mercado de Catemaco (2008)  9 x 6 cm   \n",
       "2                  Mercado de Catemaco (2008)  9 x 6 cm   \n",
       "3                  Mercado de Catemaco (2008)  9 x 6 cm   \n",
       "4                  Mercado de Catemaco (2008)  9 x 6 cm   \n",
       "..                                        ...       ...   \n",
       "140  Mercado Independencia  de Morelia (2016)       NaN   \n",
       "141  Mercado Independencia  de Morelia (2016)       NaN   \n",
       "142                                       NaN       NaN   \n",
       "143                                       NaN       NaN   \n",
       "144                                       NaN       NaN   \n",
       "\n",
       "                                           Información              Voz  \n",
       "0    Instrucciones: “Acostumbre usar diariamente es...              NaN  \n",
       "1    “RETIRA SALACIONES EN EL NEGOCIO, TRABAJO Y HO...              NaN  \n",
       "2    “Este polvo tiene propiedades ocultas, la muje...  mujer, para la   \n",
       "3         “Legítimo Polvo VENCEDOR  úselo polveándose”              NaN  \n",
       "4                     USELO POLVEANDOSE TODO EL CUERPO              NaN  \n",
       "..                                                 ...              ...  \n",
       "140      LEGITIMO POLVO DE LLAMA CLIENTE    [ilegible]              NaN  \n",
       "141  RETIRA SALACIONES EN EL NEGOCIO, TRABAJO Y HOG...              NaN  \n",
       "142                                                NaN              NaN  \n",
       "143  LEGITIMO POLVO DE LAS CUATRO MAGIAS   Líbrame ...              NaN  \n",
       "144  LEGITIMO POLVO DE JOROBADO HUMILLADOR    Es te...              NaN  \n",
       "\n",
       "[145 rows x 8 columns]"
      ],
      "text/html": "<div>\n<style scoped>\n    .dataframe tbody tr th:only-of-type {\n        vertical-align: middle;\n    }\n\n    .dataframe tbody tr th {\n        vertical-align: top;\n    }\n\n    .dataframe thead th {\n        text-align: right;\n    }\n</style>\n<table border=\"1\" class=\"dataframe\">\n  <thead>\n    <tr style=\"text-align: right;\">\n      <th></th>\n      <th>Id</th>\n      <th>Título</th>\n      <th>Oración</th>\n      <th>Objeto</th>\n      <th>Procedencia</th>\n      <th>Medidas</th>\n      <th>Información</th>\n      <th>Voz</th>\n    </tr>\n  </thead>\n  <tbody>\n    <tr>\n      <th>0</th>\n      <td>1</td>\n      <td>Legítimo polvo Sándalo</td>\n      <td>NaN</td>\n      <td>Polvo blanco</td>\n      <td>Mercado de Catemaco, Veracruz (2008)</td>\n      <td>9 x 6 cm</td>\n      <td>Instrucciones: “Acostumbre usar diariamente es...</td>\n      <td>NaN</td>\n    </tr>\n    <tr>\n      <th>1</th>\n      <td>2</td>\n      <td>MARAVILLOSO POLVO DEL CONGO</td>\n      <td>NaN</td>\n      <td>Polvo blanco</td>\n      <td>Mercado de Catemaco (2008)</td>\n      <td>9 x 6 cm</td>\n      <td>“RETIRA SALACIONES EN EL NEGOCIO, TRABAJO Y HO...</td>\n      <td>NaN</td>\n    </tr>\n    <tr>\n      <th>2</th>\n      <td>3</td>\n      <td>LEGÍTIMO POLVO DOBLEGADO A MIS PIES [ver #51]</td>\n      <td>NaN</td>\n      <td>Polvo blanco</td>\n      <td>Mercado de Catemaco (2008)</td>\n      <td>9 x 6 cm</td>\n      <td>“Este polvo tiene propiedades ocultas, la muje...</td>\n      <td>mujer, para la</td>\n    </tr>\n    <tr>\n      <th>3</th>\n      <td>4</td>\n      <td>POLVO DE OLICORNIO VFNCEDOR [sic]</td>\n      <td>NaN</td>\n      <td>Polvo gris claro</td>\n      <td>Mercado de Catemaco (2008)</td>\n      <td>9 x 6 cm</td>\n      <td>“Legítimo Polvo VENCEDOR  úselo polveándose”</td>\n      <td>NaN</td>\n    </tr>\n    <tr>\n      <th>4</th>\n      <td>5</td>\n      <td>Polvo especial SIEMPRE CONMIGO</td>\n      <td>NaN</td>\n      <td>Polvo blanco</td>\n      <td>Mercado de Catemaco (2008)</td>\n      <td>9 x 6 cm</td>\n      <td>USELO POLVEANDOSE TODO EL CUERPO</td>\n      <td>NaN</td>\n    </tr>\n    <tr>\n      <th>...</th>\n      <td>...</td>\n      <td>...</td>\n      <td>...</td>\n      <td>...</td>\n      <td>...</td>\n      <td>...</td>\n      <td>...</td>\n      <td>...</td>\n    </tr>\n    <tr>\n      <th>140</th>\n      <td>140</td>\n      <td>LEGITIMO POLVO DE Llama Cliente</td>\n      <td>NaN</td>\n      <td>Polvo gris claro</td>\n      <td>Mercado Independencia  de Morelia (2016)</td>\n      <td>NaN</td>\n      <td>LEGITIMO POLVO DE LLAMA CLIENTE    [ilegible]</td>\n      <td>NaN</td>\n    </tr>\n    <tr>\n      <th>141</th>\n      <td>141</td>\n      <td>MARAVILLOSO POLVO CONGO</td>\n      <td>NaN</td>\n      <td>Polvo gris</td>\n      <td>Mercado Independencia  de Morelia (2016)</td>\n      <td>NaN</td>\n      <td>RETIRA SALACIONES EN EL NEGOCIO, TRABAJO Y HOG...</td>\n      <td>NaN</td>\n    </tr>\n    <tr>\n      <th>142</th>\n      <td>142</td>\n      <td>Polvo Divina Providencia</td>\n      <td>A ti excelsa trinidad mi memoria y voluntad a ...</td>\n      <td>Polvo gris claro</td>\n      <td>NaN</td>\n      <td>NaN</td>\n      <td>NaN</td>\n      <td>NaN</td>\n    </tr>\n    <tr>\n      <th>143</th>\n      <td>143</td>\n      <td>LEGITIMO POLVO DE LAS CUATRO MAGIAS</td>\n      <td>NaN</td>\n      <td>Polvo gris claro</td>\n      <td>NaN</td>\n      <td>NaN</td>\n      <td>LEGITIMO POLVO DE LAS CUATRO MAGIAS   Líbrame ...</td>\n      <td>NaN</td>\n    </tr>\n    <tr>\n      <th>144</th>\n      <td>144</td>\n      <td>LEGITIMO POLVO DEL JOROBADO HUMILLADOR</td>\n      <td>NaN</td>\n      <td>Polvo gris</td>\n      <td>NaN</td>\n      <td>NaN</td>\n      <td>LEGITIMO POLVO DE JOROBADO HUMILLADOR    Es te...</td>\n      <td>NaN</td>\n    </tr>\n  </tbody>\n</table>\n<p>145 rows × 8 columns</p>\n</div>"
     },
     "metadata": {},
     "execution_count": 3
    }
   ],
   "source": [
    "df"
   ]
  }
 ],
 "metadata": {
  "kernelspec": {
   "display_name": "Python 3",
   "language": "python",
   "name": "python3"
  },
  "language_info": {
   "codemirror_mode": {
    "name": "ipython",
    "version": 3
   },
   "file_extension": ".py",
   "mimetype": "text/x-python",
   "name": "python",
   "nbconvert_exporter": "python",
   "pygments_lexer": "ipython3",
   "version": "3.8.3-final"
  }
 },
 "nbformat": 4,
 "nbformat_minor": 4
}